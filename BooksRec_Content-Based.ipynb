{
 "cells": [
  {
   "cell_type": "markdown",
   "metadata": {},
   "source": [
    "# Book Recommendations: Content-Based System"
   ]
  },
  {
   "cell_type": "code",
   "execution_count": 1,
   "metadata": {},
   "outputs": [],
   "source": [
    "import pandas as pd\n",
    "import numpy as np\n",
    "import re\n",
    "import string\n",
    "\n",
    "from rake_nltk import Rake\n",
    "\n",
    "from sklearn.metrics.pairwise import cosine_similarity\n",
    "from sklearn.feature_extraction.text import CountVectorizer\n",
    "\n",
    "from tabulate import tabulate"
   ]
  },
  {
   "cell_type": "markdown",
   "metadata": {},
   "source": [
    "## Data"
   ]
  },
  {
   "cell_type": "code",
   "execution_count": 2,
   "metadata": {},
   "outputs": [
    {
     "data": {
      "text/html": [
       "<div>\n",
       "<style scoped>\n",
       "    .dataframe tbody tr th:only-of-type {\n",
       "        vertical-align: middle;\n",
       "    }\n",
       "\n",
       "    .dataframe tbody tr th {\n",
       "        vertical-align: top;\n",
       "    }\n",
       "\n",
       "    .dataframe thead th {\n",
       "        text-align: right;\n",
       "    }\n",
       "</style>\n",
       "<table border=\"1\" class=\"dataframe\">\n",
       "  <thead>\n",
       "    <tr style=\"text-align: right;\">\n",
       "      <th></th>\n",
       "      <th>Id</th>\n",
       "      <th>Name</th>\n",
       "      <th>PublishYear</th>\n",
       "      <th>Authors</th>\n",
       "      <th>PagesNumber</th>\n",
       "      <th>Description</th>\n",
       "    </tr>\n",
       "  </thead>\n",
       "  <tbody>\n",
       "    <tr>\n",
       "      <th>0</th>\n",
       "      <td>1000014</td>\n",
       "      <td>Haroun And The Sea Of Stories</td>\n",
       "      <td>1991</td>\n",
       "      <td>Salman Rushdie</td>\n",
       "      <td>219.0</td>\n",
       "      <td>The author of The Satanic Verses returns with ...</td>\n",
       "    </tr>\n",
       "    <tr>\n",
       "      <th>1</th>\n",
       "      <td>1000030</td>\n",
       "      <td>Anne Of Green Gables</td>\n",
       "      <td>2003</td>\n",
       "      <td>L.M. Montgomery</td>\n",
       "      <td>0.0</td>\n",
       "      <td>When Marilla and Matthew Cuthbert of Green Gab...</td>\n",
       "    </tr>\n",
       "  </tbody>\n",
       "</table>\n",
       "</div>"
      ],
      "text/plain": [
       "        Id                           Name  PublishYear          Authors  \\\n",
       "0  1000014  Haroun And The Sea Of Stories         1991   Salman Rushdie   \n",
       "1  1000030           Anne Of Green Gables         2003  L.M. Montgomery   \n",
       "\n",
       "   PagesNumber                                        Description  \n",
       "0        219.0  The author of The Satanic Verses returns with ...  \n",
       "1          0.0  When Marilla and Matthew Cuthbert of Green Gab...  "
      ]
     },
     "execution_count": 2,
     "metadata": {},
     "output_type": "execute_result"
    }
   ],
   "source": [
    "df = pd.read_csv('data/books_content.csv')\n",
    "df.head(2)"
   ]
  },
  {
   "cell_type": "code",
   "execution_count": 3,
   "metadata": {},
   "outputs": [
    {
     "data": {
      "text/html": [
       "<div>\n",
       "<style scoped>\n",
       "    .dataframe tbody tr th:only-of-type {\n",
       "        vertical-align: middle;\n",
       "    }\n",
       "\n",
       "    .dataframe tbody tr th {\n",
       "        vertical-align: top;\n",
       "    }\n",
       "\n",
       "    .dataframe thead th {\n",
       "        text-align: right;\n",
       "    }\n",
       "</style>\n",
       "<table border=\"1\" class=\"dataframe\">\n",
       "  <thead>\n",
       "    <tr style=\"text-align: right;\">\n",
       "      <th></th>\n",
       "      <th>Name</th>\n",
       "      <th>Authors</th>\n",
       "      <th>Description</th>\n",
       "    </tr>\n",
       "  </thead>\n",
       "  <tbody>\n",
       "    <tr>\n",
       "      <th>0</th>\n",
       "      <td>Haroun And The Sea Of Stories</td>\n",
       "      <td>Salman Rushdie</td>\n",
       "      <td>The author of The Satanic Verses returns with ...</td>\n",
       "    </tr>\n",
       "    <tr>\n",
       "      <th>1</th>\n",
       "      <td>Anne Of Green Gables</td>\n",
       "      <td>L.M. Montgomery</td>\n",
       "      <td>When Marilla and Matthew Cuthbert of Green Gab...</td>\n",
       "    </tr>\n",
       "  </tbody>\n",
       "</table>\n",
       "</div>"
      ],
      "text/plain": [
       "                            Name          Authors  \\\n",
       "0  Haroun And The Sea Of Stories   Salman Rushdie   \n",
       "1           Anne Of Green Gables  L.M. Montgomery   \n",
       "\n",
       "                                         Description  \n",
       "0  The author of The Satanic Verses returns with ...  \n",
       "1  When Marilla and Matthew Cuthbert of Green Gab...  "
      ]
     },
     "execution_count": 3,
     "metadata": {},
     "output_type": "execute_result"
    }
   ],
   "source": [
    "df = df[['Name', 'Authors', 'Description']]\n",
    "df.head(2)"
   ]
  },
  {
   "cell_type": "markdown",
   "metadata": {},
   "source": [
    "## Clean Author"
   ]
  },
  {
   "cell_type": "code",
   "execution_count": 4,
   "metadata": {},
   "outputs": [],
   "source": [
    "# lower case\n",
    "df.loc[:,'Authors'] = df.loc[:,'Authors'].str.lower()"
   ]
  },
  {
   "cell_type": "code",
   "execution_count": 5,
   "metadata": {},
   "outputs": [],
   "source": [
    "# remove punctuation in author's names\n",
    "df.loc[:,'Authors'] = df.loc[:,'Authors'].apply(lambda x: x.translate(str.maketrans('', '', string.punctuation)))"
   ]
  },
  {
   "cell_type": "code",
   "execution_count": 6,
   "metadata": {},
   "outputs": [],
   "source": [
    "# remove spaces in author's names\n",
    "df.loc[:,'Authors'] = df.loc[:,'Authors'].apply(lambda x: x.replace(' ', ''))"
   ]
  },
  {
   "cell_type": "code",
   "execution_count": 7,
   "metadata": {},
   "outputs": [
    {
     "data": {
      "text/html": [
       "<div>\n",
       "<style scoped>\n",
       "    .dataframe tbody tr th:only-of-type {\n",
       "        vertical-align: middle;\n",
       "    }\n",
       "\n",
       "    .dataframe tbody tr th {\n",
       "        vertical-align: top;\n",
       "    }\n",
       "\n",
       "    .dataframe thead th {\n",
       "        text-align: right;\n",
       "    }\n",
       "</style>\n",
       "<table border=\"1\" class=\"dataframe\">\n",
       "  <thead>\n",
       "    <tr style=\"text-align: right;\">\n",
       "      <th></th>\n",
       "      <th>Name</th>\n",
       "      <th>Authors</th>\n",
       "      <th>Description</th>\n",
       "    </tr>\n",
       "  </thead>\n",
       "  <tbody>\n",
       "    <tr>\n",
       "      <th>0</th>\n",
       "      <td>Haroun And The Sea Of Stories</td>\n",
       "      <td>salmanrushdie</td>\n",
       "      <td>The author of The Satanic Verses returns with ...</td>\n",
       "    </tr>\n",
       "    <tr>\n",
       "      <th>1</th>\n",
       "      <td>Anne Of Green Gables</td>\n",
       "      <td>lmmontgomery</td>\n",
       "      <td>When Marilla and Matthew Cuthbert of Green Gab...</td>\n",
       "    </tr>\n",
       "  </tbody>\n",
       "</table>\n",
       "</div>"
      ],
      "text/plain": [
       "                            Name        Authors  \\\n",
       "0  Haroun And The Sea Of Stories  salmanrushdie   \n",
       "1           Anne Of Green Gables   lmmontgomery   \n",
       "\n",
       "                                         Description  \n",
       "0  The author of The Satanic Verses returns with ...  \n",
       "1  When Marilla and Matthew Cuthbert of Green Gab...  "
      ]
     },
     "execution_count": 7,
     "metadata": {},
     "output_type": "execute_result"
    }
   ],
   "source": [
    "df.head(2)"
   ]
  },
  {
   "cell_type": "markdown",
   "metadata": {},
   "source": [
    "## Clean Description Text"
   ]
  },
  {
   "cell_type": "code",
   "execution_count": 8,
   "metadata": {},
   "outputs": [],
   "source": [
    "# copy of description\n",
    "df.loc[:,'plot'] = df['Description']"
   ]
  },
  {
   "cell_type": "code",
   "execution_count": 9,
   "metadata": {},
   "outputs": [],
   "source": [
    "# remove html tags\n",
    "def remove_html(raw_html):\n",
    "    cleanr = re.compile('<.*?>')\n",
    "    cleantext = re.sub(cleanr, '', raw_html)\n",
    "    return cleantext\n",
    "\n",
    "df.loc[:,'plot'] = df.loc[:,'plot'].apply(lambda x: str(remove_html(x)))"
   ]
  },
  {
   "cell_type": "code",
   "execution_count": 10,
   "metadata": {},
   "outputs": [],
   "source": [
    "# remove punctuation\n",
    "df.loc[:,'plot'] = df.loc[:,'plot'].apply(lambda x: x.translate(str.maketrans('', '', string.punctuation)))"
   ]
  },
  {
   "cell_type": "code",
   "execution_count": 11,
   "metadata": {},
   "outputs": [],
   "source": [
    "# create new column key_words\n",
    "df['key_words'] = \"\"\n",
    "\n",
    "for index, row in df.iterrows():\n",
    "    plot = row['plot']\n",
    "    \n",
    "    # initate Rake\n",
    "    # removes english stopwords, punctuation \n",
    "    r = Rake()\n",
    "\n",
    "    # extract keywords by passing the text\n",
    "    r.extract_keywords_from_text(plot)\n",
    "\n",
    "    # getting the dictionary with key words as keys and their scores as values\n",
    "    key_words_dict_scores = r.get_word_degrees()\n",
    "    \n",
    "    # assigning the key words to the new column for the corresponding movie\n",
    "    row['key_words'] = list(key_words_dict_scores.keys())"
   ]
  },
  {
   "cell_type": "code",
   "execution_count": 12,
   "metadata": {},
   "outputs": [],
   "source": [
    "df.drop(columns=['Description', 'plot'],inplace=True)"
   ]
  },
  {
   "cell_type": "code",
   "execution_count": 13,
   "metadata": {},
   "outputs": [
    {
     "data": {
      "text/html": [
       "<div>\n",
       "<style scoped>\n",
       "    .dataframe tbody tr th:only-of-type {\n",
       "        vertical-align: middle;\n",
       "    }\n",
       "\n",
       "    .dataframe tbody tr th {\n",
       "        vertical-align: top;\n",
       "    }\n",
       "\n",
       "    .dataframe thead th {\n",
       "        text-align: right;\n",
       "    }\n",
       "</style>\n",
       "<table border=\"1\" class=\"dataframe\">\n",
       "  <thead>\n",
       "    <tr style=\"text-align: right;\">\n",
       "      <th></th>\n",
       "      <th>Authors</th>\n",
       "      <th>key_words</th>\n",
       "    </tr>\n",
       "    <tr>\n",
       "      <th>Name</th>\n",
       "      <th></th>\n",
       "      <th></th>\n",
       "    </tr>\n",
       "  </thead>\n",
       "  <tbody>\n",
       "    <tr>\n",
       "      <th>Haroun And The Sea Of Stories</th>\n",
       "      <td>salmanrushdie</td>\n",
       "      <td>[forgotten, story, city, print, humorous, sata...</td>\n",
       "    </tr>\n",
       "    <tr>\n",
       "      <th>Anne Of Green Gables</th>\n",
       "      <td>lmmontgomery</td>\n",
       "      <td>[vanilla, cake, memorable, adventure, tragicom...</td>\n",
       "    </tr>\n",
       "  </tbody>\n",
       "</table>\n",
       "</div>"
      ],
      "text/plain": [
       "                                     Authors  \\\n",
       "Name                                           \n",
       "Haroun And The Sea Of Stories  salmanrushdie   \n",
       "Anne Of Green Gables            lmmontgomery   \n",
       "\n",
       "                                                                       key_words  \n",
       "Name                                                                              \n",
       "Haroun And The Sea Of Stories  [forgotten, story, city, print, humorous, sata...  \n",
       "Anne Of Green Gables           [vanilla, cake, memorable, adventure, tragicom...  "
      ]
     },
     "execution_count": 13,
     "metadata": {},
     "output_type": "execute_result"
    }
   ],
   "source": [
    "df.set_index('Name', inplace=True)\n",
    "df.head(2)"
   ]
  },
  {
   "cell_type": "code",
   "execution_count": 14,
   "metadata": {},
   "outputs": [],
   "source": [
    "df['all_words'] = ''\n",
    "\n",
    "columns=df.columns\n",
    "\n",
    "for index, row in df.iterrows():\n",
    "    words=''\n",
    "    for col in columns:\n",
    "        # if this isn't done author name will be split into letters\n",
    "        # join words in column with a space\n",
    "        if col != 'Authors':\n",
    "            words = words + ' '.join(row[col]) + ' '\n",
    "        else:\n",
    "            words = words + row[col] + ' '\n",
    "    # add words to new column\n",
    "    row['all_words'] = words"
   ]
  },
  {
   "cell_type": "code",
   "execution_count": 15,
   "metadata": {},
   "outputs": [
    {
     "data": {
      "text/html": [
       "<div>\n",
       "<style scoped>\n",
       "    .dataframe tbody tr th:only-of-type {\n",
       "        vertical-align: middle;\n",
       "    }\n",
       "\n",
       "    .dataframe tbody tr th {\n",
       "        vertical-align: top;\n",
       "    }\n",
       "\n",
       "    .dataframe thead th {\n",
       "        text-align: right;\n",
       "    }\n",
       "</style>\n",
       "<table border=\"1\" class=\"dataframe\">\n",
       "  <thead>\n",
       "    <tr style=\"text-align: right;\">\n",
       "      <th></th>\n",
       "      <th>Authors</th>\n",
       "      <th>key_words</th>\n",
       "      <th>all_words</th>\n",
       "    </tr>\n",
       "    <tr>\n",
       "      <th>Name</th>\n",
       "      <th></th>\n",
       "      <th></th>\n",
       "      <th></th>\n",
       "    </tr>\n",
       "  </thead>\n",
       "  <tbody>\n",
       "    <tr>\n",
       "      <th>Haroun And The Sea Of Stories</th>\n",
       "      <td>salmanrushdie</td>\n",
       "      <td>[forgotten, story, city, print, humorous, sata...</td>\n",
       "      <td>salmanrushdie forgotten story city print humor...</td>\n",
       "    </tr>\n",
       "    <tr>\n",
       "      <th>Anne Of Green Gables</th>\n",
       "      <td>lmmontgomery</td>\n",
       "      <td>[vanilla, cake, memorable, adventure, tragicom...</td>\n",
       "      <td>lmmontgomery vanilla cake memorable adventure ...</td>\n",
       "    </tr>\n",
       "    <tr>\n",
       "      <th>Jackie &amp; Me (A Baseball Card Adventure, #2)</th>\n",
       "      <td>dangutman</td>\n",
       "      <td>[like, every, meet, one, african, american, wh...</td>\n",
       "      <td>dangutman like every meet one african american...</td>\n",
       "    </tr>\n",
       "    <tr>\n",
       "      <th>Shenzhen: A Travelogue From China</th>\n",
       "      <td>guydelisle</td>\n",
       "      <td>[north, koreashenzhen, simple, freedoms, easte...</td>\n",
       "      <td>guydelisle north koreashenzhen simple freedoms...</td>\n",
       "    </tr>\n",
       "    <tr>\n",
       "      <th>Cold Fire</th>\n",
       "      <td>deankoontz</td>\n",
       "      <td>[killed, plane, crash, terrifying, monsters, c...</td>\n",
       "      <td>deankoontz killed plane crash terrifying monst...</td>\n",
       "    </tr>\n",
       "  </tbody>\n",
       "</table>\n",
       "</div>"
      ],
      "text/plain": [
       "                                                   Authors  \\\n",
       "Name                                                         \n",
       "Haroun And The Sea Of Stories                salmanrushdie   \n",
       "Anne Of Green Gables                          lmmontgomery   \n",
       "Jackie & Me (A Baseball Card Adventure, #2)      dangutman   \n",
       "Shenzhen: A Travelogue From China               guydelisle   \n",
       "Cold Fire                                       deankoontz   \n",
       "\n",
       "                                                                                     key_words  \\\n",
       "Name                                                                                             \n",
       "Haroun And The Sea Of Stories                [forgotten, story, city, print, humorous, sata...   \n",
       "Anne Of Green Gables                         [vanilla, cake, memorable, adventure, tragicom...   \n",
       "Jackie & Me (A Baseball Card Adventure, #2)  [like, every, meet, one, african, american, wh...   \n",
       "Shenzhen: A Travelogue From China            [north, koreashenzhen, simple, freedoms, easte...   \n",
       "Cold Fire                                    [killed, plane, crash, terrifying, monsters, c...   \n",
       "\n",
       "                                                                                     all_words  \n",
       "Name                                                                                            \n",
       "Haroun And The Sea Of Stories                salmanrushdie forgotten story city print humor...  \n",
       "Anne Of Green Gables                         lmmontgomery vanilla cake memorable adventure ...  \n",
       "Jackie & Me (A Baseball Card Adventure, #2)  dangutman like every meet one african american...  \n",
       "Shenzhen: A Travelogue From China            guydelisle north koreashenzhen simple freedoms...  \n",
       "Cold Fire                                    deankoontz killed plane crash terrifying monst...  "
      ]
     },
     "execution_count": 15,
     "metadata": {},
     "output_type": "execute_result"
    }
   ],
   "source": [
    "df.head()"
   ]
  },
  {
   "cell_type": "code",
   "execution_count": 16,
   "metadata": {},
   "outputs": [],
   "source": [
    "df.drop(columns=['Authors', 'key_words'], inplace=True)"
   ]
  },
  {
   "cell_type": "code",
   "execution_count": 17,
   "metadata": {},
   "outputs": [
    {
     "data": {
      "text/html": [
       "<div>\n",
       "<style scoped>\n",
       "    .dataframe tbody tr th:only-of-type {\n",
       "        vertical-align: middle;\n",
       "    }\n",
       "\n",
       "    .dataframe tbody tr th {\n",
       "        vertical-align: top;\n",
       "    }\n",
       "\n",
       "    .dataframe thead th {\n",
       "        text-align: right;\n",
       "    }\n",
       "</style>\n",
       "<table border=\"1\" class=\"dataframe\">\n",
       "  <thead>\n",
       "    <tr style=\"text-align: right;\">\n",
       "      <th></th>\n",
       "      <th>all_words</th>\n",
       "    </tr>\n",
       "    <tr>\n",
       "      <th>Name</th>\n",
       "      <th></th>\n",
       "    </tr>\n",
       "  </thead>\n",
       "  <tbody>\n",
       "    <tr>\n",
       "      <th>Haroun And The Sea Of Stories</th>\n",
       "      <td>salmanrushdie forgotten story city print humor...</td>\n",
       "    </tr>\n",
       "    <tr>\n",
       "      <th>Anne Of Green Gables</th>\n",
       "      <td>lmmontgomery vanilla cake memorable adventure ...</td>\n",
       "    </tr>\n",
       "    <tr>\n",
       "      <th>Jackie &amp; Me (A Baseball Card Adventure, #2)</th>\n",
       "      <td>dangutman like every meet one african american...</td>\n",
       "    </tr>\n",
       "    <tr>\n",
       "      <th>Shenzhen: A Travelogue From China</th>\n",
       "      <td>guydelisle north koreashenzhen simple freedoms...</td>\n",
       "    </tr>\n",
       "    <tr>\n",
       "      <th>Cold Fire</th>\n",
       "      <td>deankoontz killed plane crash terrifying monst...</td>\n",
       "    </tr>\n",
       "  </tbody>\n",
       "</table>\n",
       "</div>"
      ],
      "text/plain": [
       "                                                                                     all_words\n",
       "Name                                                                                          \n",
       "Haroun And The Sea Of Stories                salmanrushdie forgotten story city print humor...\n",
       "Anne Of Green Gables                         lmmontgomery vanilla cake memorable adventure ...\n",
       "Jackie & Me (A Baseball Card Adventure, #2)  dangutman like every meet one african american...\n",
       "Shenzhen: A Travelogue From China            guydelisle north koreashenzhen simple freedoms...\n",
       "Cold Fire                                    deankoontz killed plane crash terrifying monst..."
      ]
     },
     "execution_count": 17,
     "metadata": {},
     "output_type": "execute_result"
    }
   ],
   "source": [
    "df.head()"
   ]
  },
  {
   "cell_type": "markdown",
   "metadata": {},
   "source": [
    "## Count Vectorizer"
   ]
  },
  {
   "cell_type": "code",
   "execution_count": 18,
   "metadata": {},
   "outputs": [],
   "source": [
    "cv = CountVectorizer()\n",
    "\n",
    "cv_matrix = cv.fit_transform(df['all_words'])"
   ]
  },
  {
   "cell_type": "code",
   "execution_count": 19,
   "metadata": {},
   "outputs": [
    {
     "data": {
      "text/plain": [
       "(23979, 112407)"
      ]
     },
     "execution_count": 19,
     "metadata": {},
     "output_type": "execute_result"
    }
   ],
   "source": [
    "cv_matrix.shape"
   ]
  },
  {
   "cell_type": "code",
   "execution_count": 20,
   "metadata": {},
   "outputs": [
    {
     "data": {
      "text/plain": [
       "0                        Haroun And The Sea Of Stories\n",
       "1                                 Anne Of Green Gables\n",
       "2          Jackie & Me (A Baseball Card Adventure, #2)\n",
       "3                    Shenzhen: A Travelogue From China\n",
       "4                                            Cold Fire\n",
       "5                                             Whispers\n",
       "6                                 The Door To December\n",
       "7    My Secret War: The World War Ii Diary Of Madel...\n",
       "8    The Power Of One (Young Readers Condensed Edit...\n",
       "9    Healthy Sleep Habits, Happy Child: A Step-By-S...\n",
       "Name: Name, dtype: object"
      ]
     },
     "execution_count": 20,
     "metadata": {},
     "output_type": "execute_result"
    }
   ],
   "source": [
    "indices = pd.Series(df.index)\n",
    "indices[:10]"
   ]
  },
  {
   "cell_type": "markdown",
   "metadata": {},
   "source": [
    "## Cosine Similarity"
   ]
  },
  {
   "cell_type": "code",
   "execution_count": 21,
   "metadata": {},
   "outputs": [],
   "source": [
    "cosine_sim = cosine_similarity(cv_matrix, cv_matrix)"
   ]
  },
  {
   "cell_type": "code",
   "execution_count": 22,
   "metadata": {},
   "outputs": [
    {
     "data": {
      "text/plain": [
       "<23979x112407 sparse matrix of type '<class 'numpy.int64'>'\n",
       "\twith 1534682 stored elements in Compressed Sparse Row format>"
      ]
     },
     "execution_count": 22,
     "metadata": {},
     "output_type": "execute_result"
    }
   ],
   "source": [
    "cv_matrix"
   ]
  },
  {
   "cell_type": "markdown",
   "metadata": {},
   "source": [
    "## Content Based Book Recommender System"
   ]
  },
  {
   "cell_type": "code",
   "execution_count": 49,
   "metadata": {},
   "outputs": [],
   "source": [
    "def recommend_books(title, cosine_sim = cosine_sim):\n",
    "    \n",
    "    \"\"\"This function recommends books based on the author and descripton of a book.\n",
    "    It takes the input of a Title. If the title does not have the first letter of each word capitalized it will not \n",
    "    be able to recommend a book.\n",
    "    It returns the top 10 books the system recommends.\"\"\"\n",
    "    \n",
    "    try:\n",
    "        \n",
    "        # initializing the empty list of recommended books\n",
    "        books = []\n",
    "\n",
    "        # getting the index of the book that matches the title\n",
    "        idx = indices[indices == title].index[0]\n",
    "\n",
    "        # sort the similarity scores in descending order\n",
    "        scores = pd.Series(cosine_sim[idx]).sort_values(ascending = False)\n",
    "\n",
    "        # getting the indexes of the top 10 \n",
    "        top_10_index = list(scores.iloc[1:11].index)\n",
    "\n",
    "        # append the books to the books list\n",
    "        for i in top_10_index:\n",
    "            books.append(list(df.index)[i])\n",
    "        \n",
    "        # create dataframe of recommended books\n",
    "        titles = pd.DataFrame(books, columns=['Title'])\n",
    "        titles.insert(0, 'Rank', range(1, 1 + len(titles)))\n",
    "        \n",
    "        print('The following books are recommended as a similiar book to \"{}\":'.format(title))\n",
    "        print(\"\")\n",
    "        titles.to_csv('results/content_book_recs_{}.csv'.format(title[:10]), index=False)\n",
    "        print(tabulate(titles, headers='keys', tablefmt='psql', showindex=False))\n",
    "        \n",
    "    except:\n",
    "        print('Unable to gather recommendations for the entered title. \\nPlease try entering a different title. \\nPlease make sure the first letter of each word is capitalized.')  \n",
    "    "
   ]
  },
  {
   "cell_type": "code",
   "execution_count": 50,
   "metadata": {},
   "outputs": [
    {
     "name": "stdout",
     "output_type": "stream",
     "text": [
      "The following books are recommended as a similiar book to \"Something Blue\":\n",
      "\n",
      "+--------+-----------------------------------------+\n",
      "|   Rank | Title                                   |\n",
      "|--------+-----------------------------------------|\n",
      "|      1 | Love The One You'Re With                |\n",
      "|      2 | Something Borrowed (Darcy & Rachel, #1) |\n",
      "|      3 | Someone Like You                        |\n",
      "|      4 | The Dive From Clausen'S Pier            |\n",
      "|      5 | My Sweet Audrina                        |\n",
      "|      6 | Baby Proof                              |\n",
      "|      7 | Just As Long As We'Re Together          |\n",
      "|      8 | Magic For Marigold                      |\n",
      "|      9 | Tempted (Alex Kennedy, #1)              |\n",
      "|     10 | A Whole New Light                       |\n",
      "+--------+-----------------------------------------+\n"
     ]
    }
   ],
   "source": [
    "recommend_books('Something Blue')"
   ]
  },
  {
   "cell_type": "code",
   "execution_count": 51,
   "metadata": {},
   "outputs": [
    {
     "name": "stdout",
     "output_type": "stream",
     "text": [
      "Unable to gather recommendations for the entered title. \n",
      "Please try entering a different title. \n",
      "Please make sure the first letter of each word is capitalized.\n"
     ]
    }
   ],
   "source": [
    "recommend_books('Something blue')"
   ]
  },
  {
   "cell_type": "code",
   "execution_count": 52,
   "metadata": {},
   "outputs": [
    {
     "name": "stdout",
     "output_type": "stream",
     "text": [
      "The following books are recommended as a similiar book to \"Jemima J\":\n",
      "\n",
      "+--------+-----------------------------------------------------+\n",
      "|   Rank | Title                                               |\n",
      "|--------+-----------------------------------------------------|\n",
      "|      1 | Awol On The Appalachian Trail                       |\n",
      "|      2 | Something Blue                                      |\n",
      "|      3 | Pack Challenge (Magnus Pack, #1)                    |\n",
      "|      4 | Once A Cowboy (The Cowboys, #3)                     |\n",
      "|      5 | April Lady                                          |\n",
      "|      6 | Wherever Nina Lies                                  |\n",
      "|      7 | The Valley Of The Wolves (Crónicas De La Torre, #1) |\n",
      "|      8 | The Country Girls                                   |\n",
      "|      9 | Beauty And The Beast                                |\n",
      "|     10 | Moonlight (Dark Guardian, #1)                       |\n",
      "+--------+-----------------------------------------------------+\n"
     ]
    }
   ],
   "source": [
    "recommend_books('Jemima J')"
   ]
  },
  {
   "cell_type": "code",
   "execution_count": 53,
   "metadata": {
    "scrolled": false
   },
   "outputs": [
    {
     "name": "stdout",
     "output_type": "stream",
     "text": [
      "The following books are recommended as a similiar book to \"The Walking Dead, Vol. 7: The Calm Before\":\n",
      "\n",
      "+--------+----------------------------------------------------+\n",
      "|   Rank | Title                                              |\n",
      "|--------+----------------------------------------------------|\n",
      "|      1 | The Walking Dead, Vol. 8: Made To Suffer           |\n",
      "|      2 | The Walking Dead, Vol. 03: Safety Behind Bars      |\n",
      "|      3 | The Walking Dead, Volume 1: Days Gone Bye          |\n",
      "|      4 | Alas, Babylon                                      |\n",
      "|      5 | Cities Of The Red Night                            |\n",
      "|      6 | Timeline                                           |\n",
      "|      7 | The Power Of One (Young Readers Condensed Edition) |\n",
      "|      8 | Gone To Soldiers                                   |\n",
      "|      9 | Have A Nice Day: A Tale Of Blood And Sweatsocks    |\n",
      "|     10 | Centaur Aisle (Xanth, #4)                          |\n",
      "+--------+----------------------------------------------------+\n"
     ]
    }
   ],
   "source": [
    "recommend_books('The Walking Dead, Vol. 7: The Calm Before')"
   ]
  },
  {
   "cell_type": "code",
   "execution_count": null,
   "metadata": {},
   "outputs": [],
   "source": []
  }
 ],
 "metadata": {
  "kernelspec": {
   "display_name": "Python 3",
   "language": "python",
   "name": "python3"
  },
  "language_info": {
   "codemirror_mode": {
    "name": "ipython",
    "version": 3
   },
   "file_extension": ".py",
   "mimetype": "text/x-python",
   "name": "python",
   "nbconvert_exporter": "python",
   "pygments_lexer": "ipython3",
   "version": "3.7.10"
  }
 },
 "nbformat": 4,
 "nbformat_minor": 2
}
